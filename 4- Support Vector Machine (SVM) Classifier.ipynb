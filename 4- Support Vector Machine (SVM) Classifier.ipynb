{
 "cells": [
  {
   "cell_type": "markdown",
   "metadata": {
    "id": "0MRC0e0KhQ0S"
   },
   "source": [
    "# **Support Vector Machine (SVM) Classifier**"
   ]
  },
  {
   "cell_type": "markdown",
   "metadata": {
    "id": "LWd1UlMnhT2s"
   },
   "source": [
    "## **Importing the libraries**"
   ]
  },
  {
   "cell_type": "code",
   "execution_count": 1,
   "metadata": {
    "id": "YvGPUQaHhXfL"
   },
   "outputs": [],
   "source": [
    "import numpy as np\n",
    "import matplotlib.pyplot as plt\n",
    "import pandas as pd"
   ]
  },
  {
   "cell_type": "markdown",
   "metadata": {
    "id": "K1VMqkGvhc3-"
   },
   "source": [
    "## **Importing the dataset**"
   ]
  },
  {
   "cell_type": "code",
   "execution_count": 2,
   "metadata": {
    "id": "M52QDmyzhh9s"
   },
   "outputs": [
    {
     "data": {
      "text/html": [
       "<div>\n",
       "<style scoped>\n",
       "    .dataframe tbody tr th:only-of-type {\n",
       "        vertical-align: middle;\n",
       "    }\n",
       "\n",
       "    .dataframe tbody tr th {\n",
       "        vertical-align: top;\n",
       "    }\n",
       "\n",
       "    .dataframe thead th {\n",
       "        text-align: right;\n",
       "    }\n",
       "</style>\n",
       "<table border=\"1\" class=\"dataframe\">\n",
       "  <thead>\n",
       "    <tr style=\"text-align: right;\">\n",
       "      <th></th>\n",
       "      <th>age</th>\n",
       "      <th>vis_wuhan</th>\n",
       "      <th>from_wuhan</th>\n",
       "      <th>result</th>\n",
       "      <th>gender_0</th>\n",
       "      <th>gender_1</th>\n",
       "      <th>gender_2</th>\n",
       "      <th>location_0</th>\n",
       "      <th>location_1</th>\n",
       "      <th>location_2</th>\n",
       "      <th>...</th>\n",
       "      <th>diff_sym_hos_6</th>\n",
       "      <th>diff_sym_hos_7</th>\n",
       "      <th>diff_sym_hos_8</th>\n",
       "      <th>diff_sym_hos_9</th>\n",
       "      <th>diff_sym_hos_10</th>\n",
       "      <th>diff_sym_hos_11</th>\n",
       "      <th>diff_sym_hos_12</th>\n",
       "      <th>diff_sym_hos_13</th>\n",
       "      <th>diff_sym_hos_14</th>\n",
       "      <th>diff_sym_hos_15</th>\n",
       "    </tr>\n",
       "  </thead>\n",
       "  <tbody>\n",
       "    <tr>\n",
       "      <th>0</th>\n",
       "      <td>0.680851</td>\n",
       "      <td>1</td>\n",
       "      <td>0</td>\n",
       "      <td>1</td>\n",
       "      <td>0</td>\n",
       "      <td>1</td>\n",
       "      <td>0</td>\n",
       "      <td>0</td>\n",
       "      <td>0</td>\n",
       "      <td>0</td>\n",
       "      <td>...</td>\n",
       "      <td>0</td>\n",
       "      <td>0</td>\n",
       "      <td>1</td>\n",
       "      <td>0</td>\n",
       "      <td>0</td>\n",
       "      <td>0</td>\n",
       "      <td>0</td>\n",
       "      <td>0</td>\n",
       "      <td>0</td>\n",
       "      <td>0</td>\n",
       "    </tr>\n",
       "    <tr>\n",
       "      <th>1</th>\n",
       "      <td>0.574468</td>\n",
       "      <td>0</td>\n",
       "      <td>1</td>\n",
       "      <td>0</td>\n",
       "      <td>1</td>\n",
       "      <td>0</td>\n",
       "      <td>0</td>\n",
       "      <td>0</td>\n",
       "      <td>0</td>\n",
       "      <td>0</td>\n",
       "      <td>...</td>\n",
       "      <td>0</td>\n",
       "      <td>0</td>\n",
       "      <td>0</td>\n",
       "      <td>0</td>\n",
       "      <td>0</td>\n",
       "      <td>0</td>\n",
       "      <td>0</td>\n",
       "      <td>0</td>\n",
       "      <td>0</td>\n",
       "      <td>0</td>\n",
       "    </tr>\n",
       "    <tr>\n",
       "      <th>2</th>\n",
       "      <td>0.468085</td>\n",
       "      <td>0</td>\n",
       "      <td>1</td>\n",
       "      <td>0</td>\n",
       "      <td>0</td>\n",
       "      <td>1</td>\n",
       "      <td>0</td>\n",
       "      <td>0</td>\n",
       "      <td>0</td>\n",
       "      <td>0</td>\n",
       "      <td>...</td>\n",
       "      <td>0</td>\n",
       "      <td>0</td>\n",
       "      <td>0</td>\n",
       "      <td>0</td>\n",
       "      <td>0</td>\n",
       "      <td>0</td>\n",
       "      <td>0</td>\n",
       "      <td>1</td>\n",
       "      <td>0</td>\n",
       "      <td>0</td>\n",
       "    </tr>\n",
       "    <tr>\n",
       "      <th>3</th>\n",
       "      <td>0.617021</td>\n",
       "      <td>1</td>\n",
       "      <td>0</td>\n",
       "      <td>0</td>\n",
       "      <td>1</td>\n",
       "      <td>0</td>\n",
       "      <td>0</td>\n",
       "      <td>0</td>\n",
       "      <td>0</td>\n",
       "      <td>0</td>\n",
       "      <td>...</td>\n",
       "      <td>0</td>\n",
       "      <td>0</td>\n",
       "      <td>0</td>\n",
       "      <td>0</td>\n",
       "      <td>0</td>\n",
       "      <td>0</td>\n",
       "      <td>0</td>\n",
       "      <td>0</td>\n",
       "      <td>0</td>\n",
       "      <td>0</td>\n",
       "    </tr>\n",
       "    <tr>\n",
       "      <th>4</th>\n",
       "      <td>0.595745</td>\n",
       "      <td>0</td>\n",
       "      <td>0</td>\n",
       "      <td>0</td>\n",
       "      <td>0</td>\n",
       "      <td>1</td>\n",
       "      <td>0</td>\n",
       "      <td>0</td>\n",
       "      <td>0</td>\n",
       "      <td>0</td>\n",
       "      <td>...</td>\n",
       "      <td>0</td>\n",
       "      <td>0</td>\n",
       "      <td>0</td>\n",
       "      <td>0</td>\n",
       "      <td>0</td>\n",
       "      <td>0</td>\n",
       "      <td>0</td>\n",
       "      <td>0</td>\n",
       "      <td>0</td>\n",
       "      <td>0</td>\n",
       "    </tr>\n",
       "    <tr>\n",
       "      <th>...</th>\n",
       "      <td>...</td>\n",
       "      <td>...</td>\n",
       "      <td>...</td>\n",
       "      <td>...</td>\n",
       "      <td>...</td>\n",
       "      <td>...</td>\n",
       "      <td>...</td>\n",
       "      <td>...</td>\n",
       "      <td>...</td>\n",
       "      <td>...</td>\n",
       "      <td>...</td>\n",
       "      <td>...</td>\n",
       "      <td>...</td>\n",
       "      <td>...</td>\n",
       "      <td>...</td>\n",
       "      <td>...</td>\n",
       "      <td>...</td>\n",
       "      <td>...</td>\n",
       "      <td>...</td>\n",
       "      <td>...</td>\n",
       "      <td>...</td>\n",
       "    </tr>\n",
       "    <tr>\n",
       "      <th>858</th>\n",
       "      <td>0.234043</td>\n",
       "      <td>0</td>\n",
       "      <td>0</td>\n",
       "      <td>1</td>\n",
       "      <td>0</td>\n",
       "      <td>0</td>\n",
       "      <td>1</td>\n",
       "      <td>0</td>\n",
       "      <td>0</td>\n",
       "      <td>0</td>\n",
       "      <td>...</td>\n",
       "      <td>0</td>\n",
       "      <td>0</td>\n",
       "      <td>0</td>\n",
       "      <td>0</td>\n",
       "      <td>0</td>\n",
       "      <td>0</td>\n",
       "      <td>0</td>\n",
       "      <td>0</td>\n",
       "      <td>0</td>\n",
       "      <td>0</td>\n",
       "    </tr>\n",
       "    <tr>\n",
       "      <th>859</th>\n",
       "      <td>0.351064</td>\n",
       "      <td>0</td>\n",
       "      <td>0</td>\n",
       "      <td>0</td>\n",
       "      <td>0</td>\n",
       "      <td>0</td>\n",
       "      <td>1</td>\n",
       "      <td>1</td>\n",
       "      <td>0</td>\n",
       "      <td>0</td>\n",
       "      <td>...</td>\n",
       "      <td>0</td>\n",
       "      <td>0</td>\n",
       "      <td>0</td>\n",
       "      <td>0</td>\n",
       "      <td>0</td>\n",
       "      <td>0</td>\n",
       "      <td>0</td>\n",
       "      <td>0</td>\n",
       "      <td>0</td>\n",
       "      <td>0</td>\n",
       "    </tr>\n",
       "    <tr>\n",
       "      <th>860</th>\n",
       "      <td>0.504255</td>\n",
       "      <td>0</td>\n",
       "      <td>0</td>\n",
       "      <td>0</td>\n",
       "      <td>0</td>\n",
       "      <td>1</td>\n",
       "      <td>0</td>\n",
       "      <td>0</td>\n",
       "      <td>0</td>\n",
       "      <td>0</td>\n",
       "      <td>...</td>\n",
       "      <td>0</td>\n",
       "      <td>0</td>\n",
       "      <td>0</td>\n",
       "      <td>0</td>\n",
       "      <td>0</td>\n",
       "      <td>0</td>\n",
       "      <td>0</td>\n",
       "      <td>0</td>\n",
       "      <td>0</td>\n",
       "      <td>0</td>\n",
       "    </tr>\n",
       "    <tr>\n",
       "      <th>861</th>\n",
       "      <td>0.504255</td>\n",
       "      <td>0</td>\n",
       "      <td>0</td>\n",
       "      <td>0</td>\n",
       "      <td>0</td>\n",
       "      <td>1</td>\n",
       "      <td>0</td>\n",
       "      <td>0</td>\n",
       "      <td>0</td>\n",
       "      <td>0</td>\n",
       "      <td>...</td>\n",
       "      <td>0</td>\n",
       "      <td>0</td>\n",
       "      <td>0</td>\n",
       "      <td>0</td>\n",
       "      <td>0</td>\n",
       "      <td>0</td>\n",
       "      <td>0</td>\n",
       "      <td>0</td>\n",
       "      <td>0</td>\n",
       "      <td>0</td>\n",
       "    </tr>\n",
       "    <tr>\n",
       "      <th>862</th>\n",
       "      <td>0.723404</td>\n",
       "      <td>0</td>\n",
       "      <td>0</td>\n",
       "      <td>0</td>\n",
       "      <td>0</td>\n",
       "      <td>1</td>\n",
       "      <td>0</td>\n",
       "      <td>0</td>\n",
       "      <td>0</td>\n",
       "      <td>0</td>\n",
       "      <td>...</td>\n",
       "      <td>0</td>\n",
       "      <td>0</td>\n",
       "      <td>0</td>\n",
       "      <td>0</td>\n",
       "      <td>0</td>\n",
       "      <td>0</td>\n",
       "      <td>0</td>\n",
       "      <td>0</td>\n",
       "      <td>0</td>\n",
       "      <td>0</td>\n",
       "    </tr>\n",
       "  </tbody>\n",
       "</table>\n",
       "<p>863 rows × 294 columns</p>\n",
       "</div>"
      ],
      "text/plain": [
       "          age  vis_wuhan  from_wuhan  result  gender_0  gender_1  gender_2  \\\n",
       "0    0.680851          1           0       1         0         1         0   \n",
       "1    0.574468          0           1       0         1         0         0   \n",
       "2    0.468085          0           1       0         0         1         0   \n",
       "3    0.617021          1           0       0         1         0         0   \n",
       "4    0.595745          0           0       0         0         1         0   \n",
       "..        ...        ...         ...     ...       ...       ...       ...   \n",
       "858  0.234043          0           0       1         0         0         1   \n",
       "859  0.351064          0           0       0         0         0         1   \n",
       "860  0.504255          0           0       0         0         1         0   \n",
       "861  0.504255          0           0       0         0         1         0   \n",
       "862  0.723404          0           0       0         0         1         0   \n",
       "\n",
       "     location_0  location_1  location_2  ...  diff_sym_hos_6  diff_sym_hos_7  \\\n",
       "0             0           0           0  ...               0               0   \n",
       "1             0           0           0  ...               0               0   \n",
       "2             0           0           0  ...               0               0   \n",
       "3             0           0           0  ...               0               0   \n",
       "4             0           0           0  ...               0               0   \n",
       "..          ...         ...         ...  ...             ...             ...   \n",
       "858           0           0           0  ...               0               0   \n",
       "859           1           0           0  ...               0               0   \n",
       "860           0           0           0  ...               0               0   \n",
       "861           0           0           0  ...               0               0   \n",
       "862           0           0           0  ...               0               0   \n",
       "\n",
       "     diff_sym_hos_8  diff_sym_hos_9  diff_sym_hos_10  diff_sym_hos_11  \\\n",
       "0                 1               0                0                0   \n",
       "1                 0               0                0                0   \n",
       "2                 0               0                0                0   \n",
       "3                 0               0                0                0   \n",
       "4                 0               0                0                0   \n",
       "..              ...             ...              ...              ...   \n",
       "858               0               0                0                0   \n",
       "859               0               0                0                0   \n",
       "860               0               0                0                0   \n",
       "861               0               0                0                0   \n",
       "862               0               0                0                0   \n",
       "\n",
       "     diff_sym_hos_12  diff_sym_hos_13  diff_sym_hos_14  diff_sym_hos_15  \n",
       "0                  0                0                0                0  \n",
       "1                  0                0                0                0  \n",
       "2                  0                1                0                0  \n",
       "3                  0                0                0                0  \n",
       "4                  0                0                0                0  \n",
       "..               ...              ...              ...              ...  \n",
       "858                0                0                0                0  \n",
       "859                0                0                0                0  \n",
       "860                0                0                0                0  \n",
       "861                0                0                0                0  \n",
       "862                0                0                0                0  \n",
       "\n",
       "[863 rows x 294 columns]"
      ]
     },
     "execution_count": 2,
     "metadata": {},
     "output_type": "execute_result"
    }
   ],
   "source": [
    "data = pd.read_csv('encoded_data.csv', index_col=0)\n",
    "data"
   ]
  },
  {
   "cell_type": "markdown",
   "metadata": {
    "id": "kW3c7UYih0hT"
   },
   "source": [
    "## **Splitting the dataset into Training set and Test set**"
   ]
  },
  {
   "cell_type": "code",
   "execution_count": 3,
   "metadata": {},
   "outputs": [],
   "source": [
    "X = data.iloc[:,:-1]\n",
    "y = data['result']"
   ]
  },
  {
   "cell_type": "code",
   "execution_count": 4,
   "metadata": {
    "executionInfo": {
     "elapsed": 33,
     "status": "ok",
     "timestamp": 1643231166545,
     "user": {
      "displayName": "Osama Ali",
      "photoUrl": "https://lh3.googleusercontent.com/a-/AOh14Ggw__F78DMQDtoJko1E4yI-bs7l5V7iWEzSSZnF=s64",
      "userId": "16354773334559988869"
     },
     "user_tz": -120
    },
    "id": "iXWoQP42ie_1"
   },
   "outputs": [],
   "source": [
    "from sklearn.model_selection import train_test_split\n",
    "X_train, X_test, y_train, y_test = train_test_split(X,y, test_size= .2, stratify=y)"
   ]
  },
  {
   "cell_type": "markdown",
   "metadata": {
    "id": "bb6jCOCQiAmP"
   },
   "source": [
    "## **Training the SVM Classification model on the Training set**"
   ]
  },
  {
   "cell_type": "code",
   "execution_count": 5,
   "metadata": {
    "colab": {
     "base_uri": "https://localhost:8080/"
    },
    "executionInfo": {
     "elapsed": 26,
     "status": "ok",
     "timestamp": 1643216346358,
     "user": {
      "displayName": "Osama Ali",
      "photoUrl": "https://lh3.googleusercontent.com/a-/AOh14Ggw__F78DMQDtoJko1E4yI-bs7l5V7iWEzSSZnF=s64",
      "userId": "16354773334559988869"
     },
     "user_tz": -120
    },
    "id": "e0pFVAmciHQs",
    "outputId": "ad783640-34a9-4da4-f58a-28346ecd9a04"
   },
   "outputs": [
    {
     "data": {
      "text/plain": [
       "SVC(kernel='linear', probability=True, random_state=0)"
      ]
     },
     "execution_count": 5,
     "metadata": {},
     "output_type": "execute_result"
    }
   ],
   "source": [
    "from sklearn.svm import SVC\n",
    "classifier = SVC(kernel = 'linear', C=1.0, probability=True, random_state = 0)\n",
    "classifier.fit(X_train, y_train)"
   ]
  },
  {
   "cell_type": "markdown",
   "metadata": {
    "id": "yyxW5b395mR2"
   },
   "source": [
    "## Predicting a new result"
   ]
  },
  {
   "cell_type": "code",
   "execution_count": 6,
   "metadata": {
    "id": "f8YOXsQy58rP"
   },
   "outputs": [],
   "source": [
    "y_pred = classifier.predict(X_test)"
   ]
  },
  {
   "cell_type": "code",
   "execution_count": 7,
   "metadata": {
    "colab": {
     "base_uri": "https://localhost:8080/"
    },
    "executionInfo": {
     "elapsed": 33,
     "status": "ok",
     "timestamp": 1643233023415,
     "user": {
      "displayName": "Osama Ali",
      "photoUrl": "https://lh3.googleusercontent.com/a-/AOh14Ggw__F78DMQDtoJko1E4yI-bs7l5V7iWEzSSZnF=s64",
      "userId": "16354773334559988869"
     },
     "user_tz": -120
    },
    "id": "dg9ebeOtSI7Y",
    "outputId": "57734d25-0be4-43e8-aedb-95711a8f4158"
   },
   "outputs": [
    {
     "data": {
      "text/plain": [
       "<sklearn.metrics._plot.confusion_matrix.ConfusionMatrixDisplay at 0x24faf0b4bb0>"
      ]
     },
     "execution_count": 7,
     "metadata": {},
     "output_type": "execute_result"
    },
    {
     "data": {
      "image/png": "[encoded data removed]",
      "text/plain": [
       "<Figure size 432x288 with 2 Axes>"
      ]
     },
     "metadata": {
      "needs_background": "light"
     },
     "output_type": "display_data"
    }
   ],
   "source": [
    "from sklearn.metrics import confusion_matrix, accuracy_score, plot_confusion_matrix\n",
    "cm = confusion_matrix(y_test, y_pred)\n",
    "plot_confusion_matrix(classifier, X_test, y_test)"
   ]
  },
  {
   "cell_type": "markdown",
   "metadata": {
    "id": "qgDvX8mir7x1"
   },
   "source": [
    "# **Classification Metrics**"
   ]
  },
  {
   "cell_type": "code",
   "execution_count": 8,
   "metadata": {
    "id": "e7DeFYfrQtkR"
   },
   "outputs": [],
   "source": [
    "TN = cm[0,0]\n",
    "TP = cm[1,1]\n",
    "FP = cm[0,1]\n",
    "FN = cm[1,0]"
   ]
  },
  {
   "cell_type": "code",
   "execution_count": 9,
   "metadata": {
    "colab": {
     "base_uri": "https://localhost:8080/"
    },
    "executionInfo": {
     "elapsed": 41,
     "status": "ok",
     "timestamp": 1643216347688,
     "user": {
      "displayName": "Osama Ali",
      "photoUrl": "https://lh3.googleusercontent.com/a-/AOh14Ggw__F78DMQDtoJko1E4yI-bs7l5V7iWEzSSZnF=s64",
      "userId": "16354773334559988869"
     },
     "user_tz": -120
    },
    "id": "7YlnEZt-xPBa",
    "outputId": "d2870e73-d791-45f0-d661-8ec846ed7ac0"
   },
   "outputs": [
    {
     "name": "stdout",
     "output_type": "stream",
     "text": [
      "Classification accuracy: 1.0000\n"
     ]
    }
   ],
   "source": [
    "# Classification Accuracy on the Test Set\n",
    "classification_accuracy = (TP + TN) / float(TP + TN + FP + FN)\n",
    "print('Classification accuracy: {0:0.4f}'.format(classification_accuracy))"
   ]
  },
  {
   "cell_type": "code",
   "execution_count": 10,
   "metadata": {
    "colab": {
     "base_uri": "https://localhost:8080/"
    },
    "executionInfo": {
     "elapsed": 40,
     "status": "ok",
     "timestamp": 1643216347689,
     "user": {
      "displayName": "Osama Ali",
      "photoUrl": "https://lh3.googleusercontent.com/a-/AOh14Ggw__F78DMQDtoJko1E4yI-bs7l5V7iWEzSSZnF=s64",
      "userId": "16354773334559988869"
     },
     "user_tz": -120
    },
    "id": "e-hSRblVxPBp",
    "outputId": "0b26c986-fd78-4686-b5a1-793745c23ef0"
   },
   "outputs": [
    {
     "name": "stdout",
     "output_type": "stream",
     "text": [
      "Classification error: 0.0000\n"
     ]
    }
   ],
   "source": [
    "# Classification Error\n",
    "classification_error = (FP + FN) / float(TP + TN + FP + FN)\n",
    "print('Classification error: {0:0.4f}'.format(classification_error))"
   ]
  },
  {
   "cell_type": "code",
   "execution_count": 11,
   "metadata": {
    "colab": {
     "base_uri": "https://localhost:8080/"
    },
    "executionInfo": {
     "elapsed": 37,
     "status": "ok",
     "timestamp": 1643216347689,
     "user": {
      "displayName": "Osama Ali",
      "photoUrl": "https://lh3.googleusercontent.com/a-/AOh14Ggw__F78DMQDtoJko1E4yI-bs7l5V7iWEzSSZnF=s64",
      "userId": "16354773334559988869"
     },
     "user_tz": -120
    },
    "id": "cWHHHk-2xPBq",
    "outputId": "5237be24-3de2-4882-d01d-61286086f765"
   },
   "outputs": [
    {
     "name": "stdout",
     "output_type": "stream",
     "text": [
      "Precision: 1.0000\n"
     ]
    }
   ],
   "source": [
    "# Precision Score\n",
    "precision = TP / float(TP + FP)\n",
    "print('Precision: {0:0.4f}'.format(precision))"
   ]
  },
  {
   "cell_type": "code",
   "execution_count": 12,
   "metadata": {
    "colab": {
     "base_uri": "https://localhost:8080/"
    },
    "executionInfo": {
     "elapsed": 36,
     "status": "ok",
     "timestamp": 1643216347690,
     "user": {
      "displayName": "Osama Ali",
      "photoUrl": "https://lh3.googleusercontent.com/a-/AOh14Ggw__F78DMQDtoJko1E4yI-bs7l5V7iWEzSSZnF=s64",
      "userId": "16354773334559988869"
     },
     "user_tz": -120
    },
    "id": "qtbm-p3OxPBq",
    "outputId": "8ea4ca6a-9fcb-43e3-83ee-0dc78d973764"
   },
   "outputs": [
    {
     "name": "stdout",
     "output_type": "stream",
     "text": [
      "Recall or Sensitivity: 1.0000\n"
     ]
    }
   ],
   "source": [
    "# Recall or Sensitivity\n",
    "recall = TP / float(TP + FN)\n",
    "print('Recall or Sensitivity: {0:0.4f}'.format(recall))"
   ]
  },
  {
   "cell_type": "code",
   "execution_count": 13,
   "metadata": {
    "colab": {
     "base_uri": "https://localhost:8080/"
    },
    "executionInfo": {
     "elapsed": 33,
     "status": "ok",
     "timestamp": 1643216347690,
     "user": {
      "displayName": "Osama Ali",
      "photoUrl": "https://lh3.googleusercontent.com/a-/AOh14Ggw__F78DMQDtoJko1E4yI-bs7l5V7iWEzSSZnF=s64",
      "userId": "16354773334559988869"
     },
     "user_tz": -120
    },
    "id": "zHnX7Z2MxPBr",
    "outputId": "f476c64d-4d48-48ea-83dc-3177e470f08a"
   },
   "outputs": [
    {
     "name": "stdout",
     "output_type": "stream",
     "text": [
      "F1 score: 1.0000\n"
     ]
    }
   ],
   "source": [
    "# F1 Score\n",
    "f1 = 2 * (precision * recall) / (precision + recall)\n",
    "print('F1 score: {0:0.4f}'.format(f1))"
   ]
  },
  {
   "cell_type": "markdown",
   "metadata": {},
   "source": [
    "# Classification Report"
   ]
  },
  {
   "cell_type": "code",
   "execution_count": 14,
   "metadata": {
    "colab": {
     "base_uri": "https://localhost:8080/"
    },
    "executionInfo": {
     "elapsed": 29,
     "status": "ok",
     "timestamp": 1643216347691,
     "user": {
      "displayName": "Osama Ali",
      "photoUrl": "https://lh3.googleusercontent.com/a-/AOh14Ggw__F78DMQDtoJko1E4yI-bs7l5V7iWEzSSZnF=s64",
      "userId": "16354773334559988869"
     },
     "user_tz": -120
    },
    "id": "QFLuvhgYxPBr",
    "outputId": "982519c1-f7a8-45b2-9939-de11815aeacf"
   },
   "outputs": [
    {
     "name": "stdout",
     "output_type": "stream",
     "text": [
      "              precision    recall  f1-score   support\n",
      "\n",
      "           0       1.00      1.00      1.00       151\n",
      "           1       1.00      1.00      1.00        22\n",
      "\n",
      "    accuracy                           1.00       173\n",
      "   macro avg       1.00      1.00      1.00       173\n",
      "weighted avg       1.00      1.00      1.00       173\n",
      "\n"
     ]
    }
   ],
   "source": [
    "from sklearn.metrics import classification_report\n",
    "print(classification_report(y_test, y_pred))"
   ]
  },
  {
   "cell_type": "markdown",
   "metadata": {
    "id": "lBJYHPMZt8xk"
   },
   "source": [
    "## **ROC & AUC**"
   ]
  },
  {
   "cell_type": "markdown",
   "metadata": {
    "id": "hl_hDOsvDmyV"
   },
   "source": [
    "### **Prediction probabilities** "
   ]
  },
  {
   "cell_type": "code",
   "execution_count": 15,
   "metadata": {
    "id": "jVkSSnnGCQ0O"
   },
   "outputs": [],
   "source": [
    "r_probs = [0 for _ in range(len(y_test))]\n",
    "svm_probs = classifier.predict_proba(X_test)"
   ]
  },
  {
   "cell_type": "markdown",
   "metadata": {
    "id": "GNha6VVeDsyb"
   },
   "source": [
    "Probabilities for the positive outcome is kept."
   ]
  },
  {
   "cell_type": "code",
   "execution_count": 16,
   "metadata": {
    "id": "a4j8EtvZCdF8"
   },
   "outputs": [],
   "source": [
    "svm_probs = svm_probs[:, 1]"
   ]
  },
  {
   "cell_type": "code",
   "execution_count": 17,
   "metadata": {
    "id": "E9PBFw4C7lVH"
   },
   "outputs": [],
   "source": [
    "# ROC Curve and AUC\n",
    "from sklearn.metrics import roc_curve, roc_auc_score"
   ]
  },
  {
   "cell_type": "markdown",
   "metadata": {
    "id": "gpr5ON6QC7ip"
   },
   "source": [
    "### **Calculate AUC**\n",
    "**ROC** is the receiver operating characteristic - \n",
    "**AUC** is the area under the ROC curve"
   ]
  },
  {
   "cell_type": "code",
   "execution_count": 18,
   "metadata": {
    "id": "yVwjOC6XC5lw"
   },
   "outputs": [],
   "source": [
    "r_auc = roc_auc_score(y_test, r_probs)\n",
    "svm_auc = roc_auc_score(y_test, svm_probs)"
   ]
  },
  {
   "cell_type": "markdown",
   "metadata": {
    "id": "TIzyhgstDMqw"
   },
   "source": [
    "### **Print AUC scores**"
   ]
  },
  {
   "cell_type": "code",
   "execution_count": 19,
   "metadata": {
    "colab": {
     "base_uri": "https://localhost:8080/"
    },
    "executionInfo": {
     "elapsed": 29,
     "status": "ok",
     "timestamp": 1643216347695,
     "user": {
      "displayName": "Osama Ali",
      "photoUrl": "https://lh3.googleusercontent.com/a-/AOh14Ggw__F78DMQDtoJko1E4yI-bs7l5V7iWEzSSZnF=s64",
      "userId": "16354773334559988869"
     },
     "user_tz": -120
    },
    "id": "lUvZ8_BbC5uf",
    "outputId": "a72dab20-ea47-407e-af72-4df807d67649"
   },
   "outputs": [
    {
     "name": "stdout",
     "output_type": "stream",
     "text": [
      "Random (chance) Prediction: AUC = 0.500\n",
      "SVM: AUC = 1.000\n"
     ]
    }
   ],
   "source": [
    "print('Random (chance) Prediction: AUC = %.3f' % (r_auc))\n",
    "print('SVM: AUC = %.3f' % (svm_auc))"
   ]
  },
  {
   "cell_type": "markdown",
   "metadata": {
    "id": "7AsuB3AQE5FC"
   },
   "source": [
    "### **Calculate ROC curve**"
   ]
  },
  {
   "cell_type": "code",
   "execution_count": 20,
   "metadata": {
    "id": "lApmrHMp9YDb"
   },
   "outputs": [],
   "source": [
    "r_fpr, r_tpr, _ = roc_curve(y_test, r_probs)\n",
    "svm_fpr, svm_tpr, _ = roc_curve(y_test, svm_probs)"
   ]
  },
  {
   "cell_type": "markdown",
   "metadata": {
    "id": "tXpx2YMM4Gsb"
   },
   "source": [
    "## **Plot the ROC curve**"
   ]
  },
  {
   "cell_type": "code",
   "execution_count": 21,
   "metadata": {
    "id": "oL96kXed4MvL"
   },
   "outputs": [],
   "source": [
    "import matplotlib.pyplot as plt"
   ]
  },
  {
   "cell_type": "code",
   "execution_count": 22,
   "metadata": {
    "colab": {
     "base_uri": "https://localhost:8080/",
     "height": 295
    },
    "executionInfo": {
     "elapsed": 28,
     "status": "ok",
     "timestamp": 1643216347698,
     "user": {
      "displayName": "Osama Ali",
      "photoUrl": "https://lh3.googleusercontent.com/a-/AOh14Ggw__F78DMQDtoJko1E4yI-bs7l5V7iWEzSSZnF=s64",
      "userId": "16354773334559988869"
     },
     "user_tz": -120
    },
    "id": "v2Q6p9qmFVxB",
    "outputId": "bcec2192-5bb5-44f7-a97a-48f523f2249a",
    "scrolled": true
   },
   "outputs": [
    {
     "data": {
      "image/png": "[encoded data removed]",
      "text/plain": [
       "<Figure size 432x288 with 1 Axes>"
      ]
     },
     "metadata": {
      "needs_background": "light"
     },
     "output_type": "display_data"
    }
   ],
   "source": [
    "\n",
    "plt.plot(r_fpr, r_tpr, linestyle='--', label='Random prediction (AUC = %0.3f)' % r_auc)\n",
    "plt.plot(svm_fpr, svm_tpr, marker='.', label='SVM (AUC = %0.3f)' % svm_auc)\n",
    "\n",
    "# Title\n",
    "plt.title('ROC Plot')\n",
    "# Axis labels\n",
    "plt.xlabel('False Positive Rate')\n",
    "plt.ylabel('True Positive Rate')\n",
    "# Show legend\n",
    "plt.legend() # \n",
    "# Show plot\n",
    "plt.show()"
   ]
  },
  {
   "cell_type": "markdown",
   "metadata": {},
   "source": [
    "# Hyperparameters' Tuning"
   ]
  },
  {
   "cell_type": "code",
   "execution_count": 23,
   "metadata": {
    "id": "MUGqM8Uz9uYf"
   },
   "outputs": [
    {
     "name": "stdout",
     "output_type": "stream",
     "text": [
      "Fitting 5 folds for each of 20 candidates, totalling 100 fits\n",
      "[CV 1/5; 1/20] START C=1, kernel=linear.........................................\n",
      "[CV 1/5; 1/20] END ..........C=1, kernel=linear;, score=1.000 total time=   0.0s\n",
      "[CV 2/5; 1/20] START C=1, kernel=linear.........................................\n",
      "[CV 2/5; 1/20] END ..........C=1, kernel=linear;, score=1.000 total time=   0.0s\n",
      "[CV 3/5; 1/20] START C=1, kernel=linear.........................................\n",
      "[CV 3/5; 1/20] END ..........C=1, kernel=linear;, score=1.000 total time=   0.0s\n",
      "[CV 4/5; 1/20] START C=1, kernel=linear.........................................\n",
      "[CV 4/5; 1/20] END ..........C=1, kernel=linear;, score=1.000 total time=   0.0s\n",
      "[CV 5/5; 1/20] START C=1, kernel=linear.........................................\n",
      "[CV 5/5; 1/20] END ..........C=1, kernel=linear;, score=1.000 total time=   0.0s\n",
      "[CV 1/5; 2/20] START C=1, kernel=poly...........................................\n",
      "[CV 1/5; 2/20] END ............C=1, kernel=poly;, score=1.000 total time=   0.0s\n",
      "[CV 2/5; 2/20] START C=1, kernel=poly...........................................\n",
      "[CV 2/5; 2/20] END ............C=1, kernel=poly;, score=0.988 total time=   0.0s\n",
      "[CV 3/5; 2/20] START C=1, kernel=poly...........................................\n",
      "[CV 3/5; 2/20] END ............C=1, kernel=poly;, score=1.000 total time=   0.0s\n",
      "[CV 4/5; 2/20] START C=1, kernel=poly...........................................\n",
      "[CV 4/5; 2/20] END ............C=1, kernel=poly;, score=1.000 total time=   0.0s\n",
      "[CV 5/5; 2/20] START C=1, kernel=poly...........................................\n",
      "[CV 5/5; 2/20] END ............C=1, kernel=poly;, score=1.000 total time=   0.0s\n",
      "[CV 1/5; 3/20] START C=1, kernel=rbf............................................\n",
      "[CV 1/5; 3/20] END .............C=1, kernel=rbf;, score=1.000 total time=   0.0s\n",
      "[CV 2/5; 3/20] START C=1, kernel=rbf............................................\n",
      "[CV 2/5; 3/20] END .............C=1, kernel=rbf;, score=1.000 total time=   0.0s\n",
      "[CV 3/5; 3/20] START C=1, kernel=rbf............................................\n",
      "[CV 3/5; 3/20] END .............C=1, kernel=rbf;, score=1.000 total time=   0.0s\n",
      "[CV 4/5; 3/20] START C=1, kernel=rbf............................................\n",
      "[CV 4/5; 3/20] END .............C=1, kernel=rbf;, score=1.000 total time=   0.0s\n",
      "[CV 5/5; 3/20] START C=1, kernel=rbf............................................\n",
      "[CV 5/5; 3/20] END .............C=1, kernel=rbf;, score=1.000 total time=   0.0s\n",
      "[CV 1/5; 4/20] START C=1, kernel=sigmoid........................................\n",
      "[CV 1/5; 4/20] END .........C=1, kernel=sigmoid;, score=1.000 total time=   0.0s\n",
      "[CV 2/5; 4/20] START C=1, kernel=sigmoid........................................\n",
      "[CV 2/5; 4/20] END .........C=1, kernel=sigmoid;, score=1.000 total time=   0.0s\n",
      "[CV 3/5; 4/20] START C=1, kernel=sigmoid........................................\n",
      "[CV 3/5; 4/20] END .........C=1, kernel=sigmoid;, score=1.000 total time=   0.0s\n",
      "[CV 4/5; 4/20] START C=1, kernel=sigmoid........................................\n",
      "[CV 4/5; 4/20] END .........C=1, kernel=sigmoid;, score=1.000 total time=   0.0s\n",
      "[CV 5/5; 4/20] START C=1, kernel=sigmoid........................................\n",
      "[CV 5/5; 4/20] END .........C=1, kernel=sigmoid;, score=1.000 total time=   0.0s\n",
      "[CV 1/5; 5/20] START C=3, kernel=linear.........................................\n",
      "[CV 1/5; 5/20] END ..........C=3, kernel=linear;, score=1.000 total time=   0.0s\n",
      "[CV 2/5; 5/20] START C=3, kernel=linear.........................................\n",
      "[CV 2/5; 5/20] END ..........C=3, kernel=linear;, score=1.000 total time=   0.0s\n",
      "[CV 3/5; 5/20] START C=3, kernel=linear.........................................\n",
      "[CV 3/5; 5/20] END ..........C=3, kernel=linear;, score=1.000 total time=   0.0s\n",
      "[CV 4/5; 5/20] START C=3, kernel=linear.........................................\n",
      "[CV 4/5; 5/20] END ..........C=3, kernel=linear;, score=1.000 total time=   0.0s\n",
      "[CV 5/5; 5/20] START C=3, kernel=linear.........................................\n",
      "[CV 5/5; 5/20] END ..........C=3, kernel=linear;, score=1.000 total time=   0.0s\n",
      "[CV 1/5; 6/20] START C=3, kernel=poly...........................................\n",
      "[CV 1/5; 6/20] END ............C=3, kernel=poly;, score=1.000 total time=   0.0s\n",
      "[CV 2/5; 6/20] START C=3, kernel=poly...........................................\n",
      "[CV 2/5; 6/20] END ............C=3, kernel=poly;, score=0.988 total time=   0.0s\n",
      "[CV 3/5; 6/20] START C=3, kernel=poly...........................................\n",
      "[CV 3/5; 6/20] END ............C=3, kernel=poly;, score=1.000 total time=   0.0s\n",
      "[CV 4/5; 6/20] START C=3, kernel=poly...........................................\n",
      "[CV 4/5; 6/20] END ............C=3, kernel=poly;, score=1.000 total time=   0.0s\n",
      "[CV 5/5; 6/20] START C=3, kernel=poly...........................................\n",
      "[CV 5/5; 6/20] END ............C=3, kernel=poly;, score=1.000 total time=   0.0s\n",
      "[CV 1/5; 7/20] START C=3, kernel=rbf............................................\n",
      "[CV 1/5; 7/20] END .............C=3, kernel=rbf;, score=1.000 total time=   0.0s\n",
      "[CV 2/5; 7/20] START C=3, kernel=rbf............................................\n",
      "[CV 2/5; 7/20] END .............C=3, kernel=rbf;, score=1.000 total time=   0.0s\n",
      "[CV 3/5; 7/20] START C=3, kernel=rbf............................................\n",
      "[CV 3/5; 7/20] END .............C=3, kernel=rbf;, score=1.000 total time=   0.0s\n",
      "[CV 4/5; 7/20] START C=3, kernel=rbf............................................\n",
      "[CV 4/5; 7/20] END .............C=3, kernel=rbf;, score=1.000 total time=   0.0s\n",
      "[CV 5/5; 7/20] START C=3, kernel=rbf............................................\n",
      "[CV 5/5; 7/20] END .............C=3, kernel=rbf;, score=1.000 total time=   0.0s\n",
      "[CV 1/5; 8/20] START C=3, kernel=sigmoid........................................\n",
      "[CV 1/5; 8/20] END .........C=3, kernel=sigmoid;, score=1.000 total time=   0.0s\n",
      "[CV 2/5; 8/20] START C=3, kernel=sigmoid........................................\n",
      "[CV 2/5; 8/20] END .........C=3, kernel=sigmoid;, score=1.000 total time=   0.0s\n",
      "[CV 3/5; 8/20] START C=3, kernel=sigmoid........................................\n",
      "[CV 3/5; 8/20] END .........C=3, kernel=sigmoid;, score=1.000 total time=   0.0s\n",
      "[CV 4/5; 8/20] START C=3, kernel=sigmoid........................................\n",
      "[CV 4/5; 8/20] END .........C=3, kernel=sigmoid;, score=1.000 total time=   0.0s\n",
      "[CV 5/5; 8/20] START C=3, kernel=sigmoid........................................\n",
      "[CV 5/5; 8/20] END .........C=3, kernel=sigmoid;, score=1.000 total time=   0.0s\n",
      "[CV 1/5; 9/20] START C=5, kernel=linear.........................................\n",
      "[CV 1/5; 9/20] END ..........C=5, kernel=linear;, score=1.000 total time=   0.0s\n",
      "[CV 2/5; 9/20] START C=5, kernel=linear.........................................\n",
      "[CV 2/5; 9/20] END ..........C=5, kernel=linear;, score=1.000 total time=   0.0s\n",
      "[CV 3/5; 9/20] START C=5, kernel=linear.........................................\n",
      "[CV 3/5; 9/20] END ..........C=5, kernel=linear;, score=1.000 total time=   0.0s\n",
      "[CV 4/5; 9/20] START C=5, kernel=linear.........................................\n",
      "[CV 4/5; 9/20] END ..........C=5, kernel=linear;, score=1.000 total time=   0.0s\n",
      "[CV 5/5; 9/20] START C=5, kernel=linear.........................................\n",
      "[CV 5/5; 9/20] END ..........C=5, kernel=linear;, score=1.000 total time=   0.0s\n",
      "[CV 1/5; 10/20] START C=5, kernel=poly..........................................\n",
      "[CV 1/5; 10/20] END ...........C=5, kernel=poly;, score=1.000 total time=   0.0s\n",
      "[CV 2/5; 10/20] START C=5, kernel=poly..........................................\n",
      "[CV 2/5; 10/20] END ...........C=5, kernel=poly;, score=0.988 total time=   0.0s\n",
      "[CV 3/5; 10/20] START C=5, kernel=poly..........................................\n",
      "[CV 3/5; 10/20] END ...........C=5, kernel=poly;, score=1.000 total time=   0.0s\n",
      "[CV 4/5; 10/20] START C=5, kernel=poly..........................................\n",
      "[CV 4/5; 10/20] END ...........C=5, kernel=poly;, score=1.000 total time=   0.0s\n",
      "[CV 5/5; 10/20] START C=5, kernel=poly..........................................\n",
      "[CV 5/5; 10/20] END ...........C=5, kernel=poly;, score=1.000 total time=   0.0s\n",
      "[CV 1/5; 11/20] START C=5, kernel=rbf...........................................\n",
      "[CV 1/5; 11/20] END ............C=5, kernel=rbf;, score=1.000 total time=   0.0s\n",
      "[CV 2/5; 11/20] START C=5, kernel=rbf...........................................\n",
      "[CV 2/5; 11/20] END ............C=5, kernel=rbf;, score=1.000 total time=   0.0s\n",
      "[CV 3/5; 11/20] START C=5, kernel=rbf...........................................\n"
     ]
    },
    {
     "name": "stdout",
     "output_type": "stream",
     "text": [
      "[CV 3/5; 11/20] END ............C=5, kernel=rbf;, score=1.000 total time=   0.0s\n",
      "[CV 4/5; 11/20] START C=5, kernel=rbf...........................................\n",
      "[CV 4/5; 11/20] END ............C=5, kernel=rbf;, score=1.000 total time=   0.0s\n",
      "[CV 5/5; 11/20] START C=5, kernel=rbf...........................................\n",
      "[CV 5/5; 11/20] END ............C=5, kernel=rbf;, score=1.000 total time=   0.0s\n",
      "[CV 1/5; 12/20] START C=5, kernel=sigmoid.......................................\n",
      "[CV 1/5; 12/20] END ........C=5, kernel=sigmoid;, score=1.000 total time=   0.0s\n",
      "[CV 2/5; 12/20] START C=5, kernel=sigmoid.......................................\n",
      "[CV 2/5; 12/20] END ........C=5, kernel=sigmoid;, score=1.000 total time=   0.0s\n",
      "[CV 3/5; 12/20] START C=5, kernel=sigmoid.......................................\n",
      "[CV 3/5; 12/20] END ........C=5, kernel=sigmoid;, score=1.000 total time=   0.0s\n",
      "[CV 4/5; 12/20] START C=5, kernel=sigmoid.......................................\n",
      "[CV 4/5; 12/20] END ........C=5, kernel=sigmoid;, score=1.000 total time=   0.0s\n",
      "[CV 5/5; 12/20] START C=5, kernel=sigmoid.......................................\n",
      "[CV 5/5; 12/20] END ........C=5, kernel=sigmoid;, score=1.000 total time=   0.0s\n",
      "[CV 1/5; 13/20] START C=7, kernel=linear........................................\n",
      "[CV 1/5; 13/20] END .........C=7, kernel=linear;, score=1.000 total time=   0.0s\n",
      "[CV 2/5; 13/20] START C=7, kernel=linear........................................\n",
      "[CV 2/5; 13/20] END .........C=7, kernel=linear;, score=1.000 total time=   0.0s\n",
      "[CV 3/5; 13/20] START C=7, kernel=linear........................................\n",
      "[CV 3/5; 13/20] END .........C=7, kernel=linear;, score=1.000 total time=   0.0s\n",
      "[CV 4/5; 13/20] START C=7, kernel=linear........................................\n",
      "[CV 4/5; 13/20] END .........C=7, kernel=linear;, score=1.000 total time=   0.0s\n",
      "[CV 5/5; 13/20] START C=7, kernel=linear........................................\n",
      "[CV 5/5; 13/20] END .........C=7, kernel=linear;, score=1.000 total time=   0.0s\n",
      "[CV 1/5; 14/20] START C=7, kernel=poly..........................................\n",
      "[CV 1/5; 14/20] END ...........C=7, kernel=poly;, score=1.000 total time=   0.0s\n",
      "[CV 2/5; 14/20] START C=7, kernel=poly..........................................\n",
      "[CV 2/5; 14/20] END ...........C=7, kernel=poly;, score=0.988 total time=   0.0s\n",
      "[CV 3/5; 14/20] START C=7, kernel=poly..........................................\n",
      "[CV 3/5; 14/20] END ...........C=7, kernel=poly;, score=1.000 total time=   0.0s\n",
      "[CV 4/5; 14/20] START C=7, kernel=poly..........................................\n",
      "[CV 4/5; 14/20] END ...........C=7, kernel=poly;, score=1.000 total time=   0.0s\n",
      "[CV 5/5; 14/20] START C=7, kernel=poly..........................................\n",
      "[CV 5/5; 14/20] END ...........C=7, kernel=poly;, score=1.000 total time=   0.0s\n",
      "[CV 1/5; 15/20] START C=7, kernel=rbf...........................................\n",
      "[CV 1/5; 15/20] END ............C=7, kernel=rbf;, score=1.000 total time=   0.0s\n",
      "[CV 2/5; 15/20] START C=7, kernel=rbf...........................................\n",
      "[CV 2/5; 15/20] END ............C=7, kernel=rbf;, score=1.000 total time=   0.0s\n",
      "[CV 3/5; 15/20] START C=7, kernel=rbf...........................................\n",
      "[CV 3/5; 15/20] END ............C=7, kernel=rbf;, score=1.000 total time=   0.0s\n",
      "[CV 4/5; 15/20] START C=7, kernel=rbf...........................................\n",
      "[CV 4/5; 15/20] END ............C=7, kernel=rbf;, score=1.000 total time=   0.0s\n",
      "[CV 5/5; 15/20] START C=7, kernel=rbf...........................................\n",
      "[CV 5/5; 15/20] END ............C=7, kernel=rbf;, score=1.000 total time=   0.0s\n",
      "[CV 1/5; 16/20] START C=7, kernel=sigmoid.......................................\n",
      "[CV 1/5; 16/20] END ........C=7, kernel=sigmoid;, score=1.000 total time=   0.0s\n",
      "[CV 2/5; 16/20] START C=7, kernel=sigmoid.......................................\n",
      "[CV 2/5; 16/20] END ........C=7, kernel=sigmoid;, score=1.000 total time=   0.0s\n",
      "[CV 3/5; 16/20] START C=7, kernel=sigmoid.......................................\n",
      "[CV 3/5; 16/20] END ........C=7, kernel=sigmoid;, score=1.000 total time=   0.0s\n",
      "[CV 4/5; 16/20] START C=7, kernel=sigmoid.......................................\n",
      "[CV 4/5; 16/20] END ........C=7, kernel=sigmoid;, score=1.000 total time=   0.0s\n",
      "[CV 5/5; 16/20] START C=7, kernel=sigmoid.......................................\n",
      "[CV 5/5; 16/20] END ........C=7, kernel=sigmoid;, score=1.000 total time=   0.0s\n",
      "[CV 1/5; 17/20] START C=10, kernel=linear.......................................\n",
      "[CV 1/5; 17/20] END ........C=10, kernel=linear;, score=1.000 total time=   0.0s\n",
      "[CV 2/5; 17/20] START C=10, kernel=linear.......................................\n",
      "[CV 2/5; 17/20] END ........C=10, kernel=linear;, score=1.000 total time=   0.0s\n",
      "[CV 3/5; 17/20] START C=10, kernel=linear.......................................\n",
      "[CV 3/5; 17/20] END ........C=10, kernel=linear;, score=1.000 total time=   0.0s\n",
      "[CV 4/5; 17/20] START C=10, kernel=linear.......................................\n",
      "[CV 4/5; 17/20] END ........C=10, kernel=linear;, score=1.000 total time=   0.0s\n",
      "[CV 5/5; 17/20] START C=10, kernel=linear.......................................\n",
      "[CV 5/5; 17/20] END ........C=10, kernel=linear;, score=1.000 total time=   0.0s\n",
      "[CV 1/5; 18/20] START C=10, kernel=poly.........................................\n",
      "[CV 1/5; 18/20] END ..........C=10, kernel=poly;, score=1.000 total time=   0.0s\n",
      "[CV 2/5; 18/20] START C=10, kernel=poly.........................................\n",
      "[CV 2/5; 18/20] END ..........C=10, kernel=poly;, score=0.988 total time=   0.0s\n",
      "[CV 3/5; 18/20] START C=10, kernel=poly.........................................\n",
      "[CV 3/5; 18/20] END ..........C=10, kernel=poly;, score=1.000 total time=   0.0s\n",
      "[CV 4/5; 18/20] START C=10, kernel=poly.........................................\n",
      "[CV 4/5; 18/20] END ..........C=10, kernel=poly;, score=1.000 total time=   0.0s\n",
      "[CV 5/5; 18/20] START C=10, kernel=poly.........................................\n",
      "[CV 5/5; 18/20] END ..........C=10, kernel=poly;, score=1.000 total time=   0.0s\n",
      "[CV 1/5; 19/20] START C=10, kernel=rbf..........................................\n",
      "[CV 1/5; 19/20] END ...........C=10, kernel=rbf;, score=1.000 total time=   0.0s\n",
      "[CV 2/5; 19/20] START C=10, kernel=rbf..........................................\n",
      "[CV 2/5; 19/20] END ...........C=10, kernel=rbf;, score=1.000 total time=   0.0s\n",
      "[CV 3/5; 19/20] START C=10, kernel=rbf..........................................\n",
      "[CV 3/5; 19/20] END ...........C=10, kernel=rbf;, score=1.000 total time=   0.0s\n",
      "[CV 4/5; 19/20] START C=10, kernel=rbf..........................................\n",
      "[CV 4/5; 19/20] END ...........C=10, kernel=rbf;, score=1.000 total time=   0.0s\n",
      "[CV 5/5; 19/20] START C=10, kernel=rbf..........................................\n",
      "[CV 5/5; 19/20] END ...........C=10, kernel=rbf;, score=1.000 total time=   0.0s\n",
      "[CV 1/5; 20/20] START C=10, kernel=sigmoid......................................\n",
      "[CV 1/5; 20/20] END .......C=10, kernel=sigmoid;, score=1.000 total time=   0.0s\n",
      "[CV 2/5; 20/20] START C=10, kernel=sigmoid......................................\n",
      "[CV 2/5; 20/20] END .......C=10, kernel=sigmoid;, score=1.000 total time=   0.0s\n",
      "[CV 3/5; 20/20] START C=10, kernel=sigmoid......................................\n",
      "[CV 3/5; 20/20] END .......C=10, kernel=sigmoid;, score=1.000 total time=   0.0s\n",
      "[CV 4/5; 20/20] START C=10, kernel=sigmoid......................................\n",
      "[CV 4/5; 20/20] END .......C=10, kernel=sigmoid;, score=1.000 total time=   0.0s\n",
      "[CV 5/5; 20/20] START C=10, kernel=sigmoid......................................\n",
      "[CV 5/5; 20/20] END .......C=10, kernel=sigmoid;, score=1.000 total time=   0.0s\n",
      "Best Score: 1.0\n",
      "Best Hyperparameters: {'C': 1, 'kernel': 'linear'}\n"
     ]
    }
   ],
   "source": [
    "from sklearn.model_selection import GridSearchCV\n",
    "parameters = {'kernel':('linear', 'poly', 'rbf', 'sigmoid'), 'C':[1, 3, 5, 7, 10]}\n",
    "result = GridSearchCV(classifier, parameters, refit=True, cv=None, verbose=10)\n",
    "result.fit(data, data.result)\n",
    "print('Best Score: %s' % result.best_score_)\n",
    "print('Best Hyperparameters: %s' % result.best_params_)"
   ]
  }
 ],
 "metadata": {
  "colab": {
   "collapsed_sections": [],
   "machine_shape": "hm",
   "name": "Support Vector Machine (SVM) Classifier.ipynb",
   "provenance": []
  },
  "kernelspec": {
   "display_name": "Python 3 (ipykernel)",
   "language": "python",
   "name": "python3"
  },
  "language_info": {
   "codemirror_mode": {
    "name": "ipython",
    "version": 3
   },
   "file_extension": ".py",
   "mimetype": "text/x-python",
   "name": "python",
   "nbconvert_exporter": "python",
   "pygments_lexer": "ipython3",
   "version": "3.9.7"
  }
 },
 "nbformat": 4,
 "nbformat_minor": 1
}
